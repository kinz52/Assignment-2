{
 "cells": [
  {
   "cell_type": "code",
   "execution_count": 21,
   "id": "ea1e1e0f-149f-462e-96a5-0edce8fb2f98",
   "metadata": {},
   "outputs": [
    {
     "name": "stdout",
     "output_type": "stream",
     "text": [
      "C:\\Users\\emmad\\SDA250_labs\\Notebook\\Assignment2\n"
     ]
    },
    {
     "data": {
      "text/plain": [
       "'C:/Users/emmad/SDA250_labs/Notebook/Assignment2/trdhousingsent/trdhousingtext.txt'"
      ]
     },
     "execution_count": 21,
     "metadata": {},
     "output_type": "execute_result"
    }
   ],
   "source": [
    "# Using data serived from the github repository file \"trdHousingtext.txt\"\n",
    "\n",
    "# 1. set up\n",
    "import nltk\n",
    "\n",
    "from vaderSentiment.vaderSentiment import SentimentIntensityAnalyzer\n",
    "sia = SentimentIntensityAnalyzer() \n",
    "\n",
    "import os\n",
    "os.getcwd()\n",
    "print(os.getcwd())\n",
    "from nltk.corpus import PlaintextCorpusReader\n",
    "corpus_root = \"C:/Users/emmad/SDA250_labs/Notebook/Assignment2/trdhousingsent/trdhousingtext.txt\"\n",
    "corpus_root\n"
   ]
  },
  {
   "cell_type": "code",
   "execution_count": 23,
   "id": "d88ddff2-d476-4ce3-9c81-b1b83a55b691",
   "metadata": {},
   "outputs": [
    {
     "name": "stdout",
     "output_type": "stream",
     "text": [
      "Mr. Speaker, the MP for Fundy Royal wrote that this funding “will provide much needed housing in this area”, so much so that, when the Leader of the Opposition announced he would cancel it, the mayor of Butternut Valley in that riding, Alan Brown, responded very strongly that this money would help build homes and asked why the Conservative leader was blocking it.\n",
      "\n",
      "Mr. Speaker, I thank the member for Marc-Aurèle-Fortin. The Conservative leader's housing plan involves scrapping housing projects and investments across the country. In Quebec, his solution is to tear up the agreement that we signed with the province that will provide $900 million for affordable housing projects.\n",
      "\n",
      "Mr. Speaker, 18 Conservative caucus members stood up and asked for housing investments in their municipalities across the country from the housing accelerator fund that the Leader of the Opposition is promising to cut. I am going to channel my old job as a schoolteacher. The Leader of the Opposition actually spent a lot of time and effort rooting out which 18 members had asked for this money for their municipalities for housing.\n",
      "\n",
      "Mr. Speaker, Quebeckers see very clearly what the Conservative Party is offering, and that is cuts and austerity. The Conservative leader is saying he would cut $900 million in joint investments with Quebec that are intended to create roughly 8,000 affordable housing units. That is what he wants for Quebeckers, to make cuts.\n",
      "\n",
      "Mr. Speaker, the MP for St. Albert—Edmonton said, “The requested federal funding is critical to making this needed development a reality—a development that will help address the significant shortage of affordable housing options in the community”. At the same time, the mayor of Butternut Valley in New Brunswick pointed out that this is a program they need.\n",
      "\n",
      "Mr. Speaker, the problem with the Leader of the Opposition's so-called plan is that it actually cuts billions of dollars of investments to municipalities across the country that are counting on them to build hundreds and even thousands of units of housing Canadians so desperately need.\n",
      "\n",
      "Mr. Speaker, the only so-called plan the Leader of the Opposition put forward is a plan for cuts and austerity, a plan to cut billions of dollars of investments that are needed by municipalities to unlock the building of thousands of homes. Why does he not want to see thousands of homes built across the country?\n",
      "\n",
      "\n",
      "['Mr.', 'Speaker', ',', 'the', 'MP', 'for', 'Fundy', 'Royal', 'wrote', 'that', 'this', 'funding', '“', 'will', 'provide', 'much', 'needed', 'housing', 'in', 'this', 'area', '”', ',', 'so', 'much', 'so', 'that', ',', 'when', 'the', 'Leader', 'of', 'the', 'Opposition', 'announced', 'he', 'would', 'cancel', 'it', ',', 'the', 'mayor', 'of', 'Butternut', 'Valley', 'in', 'that', 'riding', ',', 'Alan', 'Brown', ',', 'responded', 'very', 'strongly', 'that', 'this', 'money', 'would', 'help', 'build', 'homes', 'and', 'asked', 'why', 'the', 'Conservative', 'leader', 'was', 'blocking', 'it', '.', 'Mr.', 'Speaker', ',', 'I', 'thank', 'the', 'member', 'for', 'Marc-Aurèle-Fortin', '.', 'The', 'Conservative', 'leader', \"'s\", 'housing', 'plan', 'involves', 'scrapping', 'housing', 'projects', 'and', 'investments', 'across', 'the', 'country', '.', 'In', 'Quebec', ',', 'his', 'solution', 'is', 'to', 'tear', 'up', 'the', 'agreement', 'that', 'we', 'signed', 'with', 'the', 'province', 'that', 'will', 'provide', '$', '900', 'million', 'for', 'affordable', 'housing', 'projects', '.', 'Mr.', 'Speaker', ',', '18', 'Conservative', 'caucus', 'members', 'stood', 'up', 'and', 'asked', 'for', 'housing', 'investments', 'in', 'their', 'municipalities', 'across', 'the', 'country', 'from', 'the', 'housing', 'accelerator', 'fund', 'that', 'the', 'Leader', 'of', 'the', 'Opposition', 'is', 'promising', 'to', 'cut', '.', 'I', 'am', 'going', 'to', 'channel', 'my', 'old', 'job', 'as', 'a', 'schoolteacher', '.', 'The', 'Leader', 'of', 'the', 'Opposition', 'actually', 'spent', 'a', 'lot', 'of', 'time', 'and', 'effort', 'rooting', 'out', 'which', '18', 'members', 'had', 'asked', 'for', 'this', 'money', 'for', 'their', 'municipalities', 'for', 'housing', '.', 'Mr.', 'Speaker', ',', 'Quebeckers', 'see', 'very', 'clearly', 'what', 'the', 'Conservative', 'Party', 'is', 'offering', ',', 'and', 'that', 'is', 'cuts', 'and', 'austerity', '.', 'The', 'Conservative', 'leader', 'is', 'saying', 'he', 'would', 'cut', '$', '900', 'million', 'in', 'joint', 'investments', 'with', 'Quebec', 'that', 'are', 'intended', 'to', 'create', 'roughly', '8,000', 'affordable', 'housing', 'units', '.', 'That', 'is', 'what', 'he', 'wants', 'for', 'Quebeckers', ',', 'to', 'make', 'cuts', '.', 'Mr.', 'Speaker', ',', 'the', 'MP', 'for', 'St.', 'Albert—Edmonton', 'said', ',', '“', 'The', 'requested', 'federal', 'funding', 'is', 'critical', 'to', 'making', 'this', 'needed', 'development', 'a', 'reality—a', 'development', 'that', 'will', 'help', 'address', 'the', 'significant', 'shortage', 'of', 'affordable', 'housing', 'options', 'in', 'the', 'community', '”', '.', 'At', 'the', 'same', 'time', ',', 'the', 'mayor', 'of', 'Butternut', 'Valley', 'in', 'New', 'Brunswick', 'pointed', 'out', 'that', 'this', 'is', 'a', 'program', 'they', 'need', '.', 'Mr.', 'Speaker', ',', 'the', 'problem', 'with', 'the', 'Leader', 'of', 'the', 'Opposition', \"'s\", 'so-called', 'plan', 'is', 'that', 'it', 'actually', 'cuts', 'billions', 'of', 'dollars', 'of', 'investments', 'to', 'municipalities', 'across', 'the', 'country', 'that', 'are', 'counting', 'on', 'them', 'to', 'build', 'hundreds', 'and', 'even', 'thousands', 'of', 'units', 'of', 'housing', 'Canadians', 'so', 'desperately', 'need', '.', 'Mr.', 'Speaker', ',', 'the', 'only', 'so-called', 'plan', 'the', 'Leader', 'of', 'the', 'Opposition', 'put', 'forward', 'is', 'a', 'plan', 'for', 'cuts', 'and', 'austerity', ',', 'a', 'plan', 'to', 'cut', 'billions', 'of', 'dollars', 'of', 'investments', 'that', 'are', 'needed', 'by', 'municipalities', 'to', 'unlock', 'the', 'building', 'of', 'thousands', 'of', 'homes', '.', 'Why', 'does', 'he', 'not', 'want', 'to', 'see', 'thousands', 'of', 'homes', 'built', 'across', 'the', 'country', '?']\n",
      "\n",
      "Sentiment Scores: {'neg': 0.0, 'neu': 1.0, 'pos': 0.0, 'compound': 0.0}\n"
     ]
    }
   ],
   "source": [
    "# 2. dataset cleanup \n",
    "\n",
    "# a) Tokenize words \n",
    "from nltk.tokenize import word_tokenize, sent_tokenize\n",
    "with open(corpus_root, \"r\", encoding = \"utf8\") as f:\n",
    "    Housingsent = f.read()  \n",
    "HousingTokens = nltk.word_tokenize(Housingsent) \n",
    "print(Housingsent)\n",
    "print (HousingTokens)\n",
    "print()\n"
   ]
  },
  {
   "cell_type": "code",
   "execution_count": 72,
   "id": "e943b2a3-c217-4d1d-bd24-369896f098ac",
   "metadata": {},
   "outputs": [
    {
     "name": "stdout",
     "output_type": "stream",
     "text": [
      "Mr. Speaker, the MP for Fundy Royal wrote that this funding “will provide much needed housing in this area”, so much so that, when the Leader of the Opposition announced he would cancel it, the mayor of Butternut Valley in that riding, Alan Brown, responded very strongly that this money would help build homes and asked why the Conservative leader was blocking it.\n",
      "\n",
      "Mr. Speaker, I thank the member for Marc-Aurèle-Fortin. The Conservative leader's housing plan involves scrapping housing projects and investments across the country. In Quebec, his solution is to tear up the agreement that we signed with the province that will provide $900 million for affordable housing projects.\n",
      "\n",
      "Mr. Speaker, 18 Conservative caucus members stood up and asked for housing investments in their municipalities across the country from the housing accelerator fund that the Leader of the Opposition is promising to cut. I am going to channel my old job as a schoolteacher. The Leader of the Opposition actually spent a lot of time and effort rooting out which 18 members had asked for this money for their municipalities for housing.\n",
      "\n",
      "Mr. Speaker, Quebeckers see very clearly what the Conservative Party is offering, and that is cuts and austerity. The Conservative leader is saying he would cut $900 million in joint investments with Quebec that are intended to create roughly 8,000 affordable housing units. That is what he wants for Quebeckers, to make cuts.\n",
      "\n",
      "Mr. Speaker, the MP for St. Albert—Edmonton said, “The requested federal funding is critical to making this needed development a reality—a development that will help address the significant shortage of affordable housing options in the community”. At the same time, the mayor of Butternut Valley in New Brunswick pointed out that this is a program they need.\n",
      "\n",
      "Mr. Speaker, the problem with the Leader of the Opposition's so-called plan is that it actually cuts billions of dollars of investments to municipalities across the country that are counting on them to build hundreds and even thousands of units of housing Canadians so desperately need.\n",
      "\n",
      "Mr. Speaker, the only so-called plan the Leader of the Opposition put forward is a plan for cuts and austerity, a plan to cut billions of dollars of investments that are needed by municipalities to unlock the building of thousands of homes. Why does he not want to see thousands of homes built across the country?\n",
      "\n",
      "\n"
     ]
    }
   ],
   "source": [
    "# b) Using stop words \n",
    "from nltk.corpus import stopwords\n",
    "stop_words = set(stopwords.words('english'))\n",
    "texts = [Housingsent] \n",
    "\n",
    "\n",
    "for text in texts:\n",
    "    filtered_words = [word for word in text.split() if word.lower() not in stop_words]\n",
    "print(text)\n"
   ]
  },
  {
   "cell_type": "code",
   "execution_count": 74,
   "id": "a9c11548-daa3-43ef-ac24-a3ca0c08c89d",
   "metadata": {},
   "outputs": [
    {
     "name": "stdout",
     "output_type": "stream",
     "text": [
      "Mr. Speaker, the MP for Fundy Royal wrote that this funding “will provide much needed housing in this area”, so much so that, when the Leader of the Opposition announced he would cancel it, the mayor of Butternut Valley in that riding, Alan Brown, responded very strongly that this money would help build homes and asked why the Conservative leader was blocking it.\n",
      "\n",
      "Mr. Speaker, I thank the member for Marc-Aurèle-Fortin. The Conservative leader's housing plan involves scrapping housing projects and investments across the country. In Quebec, his solution is to tear up the agreement that we signed with the province that will provide $900 million for affordable housing projects.\n",
      "\n",
      "Mr. Speaker, 18 Conservative caucus members stood up and asked for housing investments in their municipalities across the country from the housing accelerator fund that the Leader of the Opposition is promising to cut. I am going to channel my old job as a schoolteacher. The Leader of the Opposition actually spent a lot of time and effort rooting out which 18 members had asked for this money for their municipalities for housing.\n",
      "\n",
      "Mr. Speaker, Quebeckers see very clearly what the Conservative Party is offering, and that is cuts and austerity. The Conservative leader is saying he would cut $900 million in joint investments with Quebec that are intended to create roughly 8,000 affordable housing units. That is what he wants for Quebeckers, to make cuts.\n",
      "\n",
      "Mr. Speaker, the MP for St. Albert—Edmonton said, “The requested federal funding is critical to making this needed development a reality—a development that will help address the significant shortage of affordable housing options in the community”. At the same time, the mayor of Butternut Valley in New Brunswick pointed out that this is a program they need.\n",
      "\n",
      "Mr. Speaker, the problem with the Leader of the Opposition's so-called plan is that it actually cuts billions of dollars of investments to municipalities across the country that are counting on them to build hundreds and even thousands of units of housing Canadians so desperately need.\n",
      "\n",
      "Mr. Speaker, the only so-called plan the Leader of the Opposition put forward is a plan for cuts and austerity, a plan to cut billions of dollars of investments that are needed by municipalities to unlock the building of thousands of homes. Why does he not want to see thousands of homes built across the country?\n",
      "\n",
      "\n"
     ]
    },
    {
     "name": "stderr",
     "output_type": "stream",
     "text": [
      "[nltk_data] Downloading package wordnet to\n",
      "[nltk_data]     C:\\Users\\emmad\\AppData\\Roaming\\nltk_data...\n",
      "[nltk_data]   Package wordnet is already up-to-date!\n",
      "[nltk_data] Downloading package punkt to\n",
      "[nltk_data]     C:\\Users\\emmad\\AppData\\Roaming\\nltk_data...\n",
      "[nltk_data]   Package punkt is already up-to-date!\n"
     ]
    }
   ],
   "source": [
    "# c) Lemmatization \n",
    "#import necessary packages \n",
    "nltk.download('wordnet')\n",
    "nltk.download('punkt')\n",
    "\n",
    "from nltk.stem import WordNetLemmatizer\n",
    "\n",
    "lemmatizer = WordNetLemmatizer()\n",
    "\n",
    "def lemmatize_text(text):\n",
    "    words = word_tokenize(text)\n",
    "    lemmatized_words = [lemmatizer.lemmatize(word) for word in words]\n",
    "    return ' '.join(lemmatized_words)\n",
    "print(text)\n",
    "\n"
   ]
  },
  {
   "cell_type": "code",
   "execution_count": 88,
   "id": "56b5850c-c31e-4a6b-b69a-8eee6cf0e522",
   "metadata": {},
   "outputs": [
    {
     "name": "stdout",
     "output_type": "stream",
     "text": [
      "Sentiment Scores using Tokenized words: {'neg': 0.0, 'neu': 1.0, 'pos': 0.0, 'compound': 0.0}\n",
      "\n",
      "Sentiment scores using Stop Words for: 'Mr. Speaker, the MP for Fundy Royal wrote that this funding “will provide much needed housing in this area”, so much so that, when the Leader of the Opposition announced he would cancel it, the mayor of Butternut Valley in that riding, Alan Brown, responded very strongly that this money would help build homes and asked why the Conservative leader was blocking it.\n",
      "\n",
      "Mr. Speaker, I thank the member for Marc-Aurèle-Fortin. The Conservative leader's housing plan involves scrapping housing projects and investments across the country. In Quebec, his solution is to tear up the agreement that we signed with the province that will provide $900 million for affordable housing projects.\n",
      "\n",
      "Mr. Speaker, 18 Conservative caucus members stood up and asked for housing investments in their municipalities across the country from the housing accelerator fund that the Leader of the Opposition is promising to cut. I am going to channel my old job as a schoolteacher. The Leader of the Opposition actually spent a lot of time and effort rooting out which 18 members had asked for this money for their municipalities for housing.\n",
      "\n",
      "Mr. Speaker, Quebeckers see very clearly what the Conservative Party is offering, and that is cuts and austerity. The Conservative leader is saying he would cut $900 million in joint investments with Quebec that are intended to create roughly 8,000 affordable housing units. That is what he wants for Quebeckers, to make cuts.\n",
      "\n",
      "Mr. Speaker, the MP for St. Albert—Edmonton said, “The requested federal funding is critical to making this needed development a reality—a development that will help address the significant shortage of affordable housing options in the community”. At the same time, the mayor of Butternut Valley in New Brunswick pointed out that this is a program they need.\n",
      "\n",
      "Mr. Speaker, the problem with the Leader of the Opposition's so-called plan is that it actually cuts billions of dollars of investments to municipalities across the country that are counting on them to build hundreds and even thousands of units of housing Canadians so desperately need.\n",
      "\n",
      "Mr. Speaker, the only so-called plan the Leader of the Opposition put forward is a plan for cuts and austerity, a plan to cut billions of dollars of investments that are needed by municipalities to unlock the building of thousands of homes. Why does he not want to see thousands of homes built across the country?\n",
      "\n",
      "': {'neg': 0.114, 'neu': 0.774, 'pos': 0.112, 'compound': 0.128}\n",
      "\n",
      "The sentiment analysis on words on lemmatized text is:\n",
      "Sentiment Scores using: 'Mr. Speaker, the MP for Fundy Royal wrote that this funding “will provide much needed housing in this area”, so much so that, when the Leader of the Opposition announced he would cancel it, the mayor of Butternut Valley in that riding, Alan Brown, responded very strongly that this money would help build homes and asked why the Conservative leader was blocking it.\n",
      "\n",
      "Mr. Speaker, I thank the member for Marc-Aurèle-Fortin. The Conservative leader's housing plan involves scrapping housing projects and investments across the country. In Quebec, his solution is to tear up the agreement that we signed with the province that will provide $900 million for affordable housing projects.\n",
      "\n",
      "Mr. Speaker, 18 Conservative caucus members stood up and asked for housing investments in their municipalities across the country from the housing accelerator fund that the Leader of the Opposition is promising to cut. I am going to channel my old job as a schoolteacher. The Leader of the Opposition actually spent a lot of time and effort rooting out which 18 members had asked for this money for their municipalities for housing.\n",
      "\n",
      "Mr. Speaker, Quebeckers see very clearly what the Conservative Party is offering, and that is cuts and austerity. The Conservative leader is saying he would cut $900 million in joint investments with Quebec that are intended to create roughly 8,000 affordable housing units. That is what he wants for Quebeckers, to make cuts.\n",
      "\n",
      "Mr. Speaker, the MP for St. Albert—Edmonton said, “The requested federal funding is critical to making this needed development a reality—a development that will help address the significant shortage of affordable housing options in the community”. At the same time, the mayor of Butternut Valley in New Brunswick pointed out that this is a program they need.\n",
      "\n",
      "Mr. Speaker, the problem with the Leader of the Opposition's so-called plan is that it actually cuts billions of dollars of investments to municipalities across the country that are counting on them to build hundreds and even thousands of units of housing Canadians so desperately need.\n",
      "\n",
      "Mr. Speaker, the only so-called plan the Leader of the Opposition put forward is a plan for cuts and austerity, a plan to cut billions of dollars of investments that are needed by municipalities to unlock the building of thousands of homes. Why does he not want to see thousands of homes built across the country?\n",
      "\n",
      "': {'neg': 0.066, 'neu': 0.872, 'pos': 0.062, 'compound': 0.1275}\n",
      "\n",
      "The sentiment analysis for Trudeau's statements on housing during the November 6th governemnt Housing debate is:\n",
      "Sentiment Scores using lemmatization: 'Mr. Speaker, the MP for Fundy Royal wrote that this funding “will provide much needed housing in this area”, so much so that, when the Leader of the Opposition announced he would cancel it, the mayor of Butternut Valley in that riding, Alan Brown, responded very strongly that this money would help build homes and asked why the Conservative leader was blocking it.\n",
      "\n",
      "Mr. Speaker, I thank the member for Marc-Aurèle-Fortin. The Conservative leader's housing plan involves scrapping housing projects and investments across the country. In Quebec, his solution is to tear up the agreement that we signed with the province that will provide $900 million for affordable housing projects.\n",
      "\n",
      "Mr. Speaker, 18 Conservative caucus members stood up and asked for housing investments in their municipalities across the country from the housing accelerator fund that the Leader of the Opposition is promising to cut. I am going to channel my old job as a schoolteacher. The Leader of the Opposition actually spent a lot of time and effort rooting out which 18 members had asked for this money for their municipalities for housing.\n",
      "\n",
      "Mr. Speaker, Quebeckers see very clearly what the Conservative Party is offering, and that is cuts and austerity. The Conservative leader is saying he would cut $900 million in joint investments with Quebec that are intended to create roughly 8,000 affordable housing units. That is what he wants for Quebeckers, to make cuts.\n",
      "\n",
      "Mr. Speaker, the MP for St. Albert—Edmonton said, “The requested federal funding is critical to making this needed development a reality—a development that will help address the significant shortage of affordable housing options in the community”. At the same time, the mayor of Butternut Valley in New Brunswick pointed out that this is a program they need.\n",
      "\n",
      "Mr. Speaker, the problem with the Leader of the Opposition's so-called plan is that it actually cuts billions of dollars of investments to municipalities across the country that are counting on them to build hundreds and even thousands of units of housing Canadians so desperately need.\n",
      "\n",
      "Mr. Speaker, the only so-called plan the Leader of the Opposition put forward is a plan for cuts and austerity, a plan to cut billions of dollars of investments that are needed by municipalities to unlock the building of thousands of homes. Why does he not want to see thousands of homes built across the country?\n",
      "\n",
      "': {'neg': 0.073, 'neu': 0.862, 'pos': 0.065, 'compound': -0.0521}\n"
     ]
    }
   ],
   "source": [
    "# Testing Sentiment Analysis on data \n",
    "# 1. Test sentiment score on Tokenized words\n",
    "\n",
    "sentiment_scores = sia.polarity_scores(HousingTokens)\n",
    "print(f\"Sentiment Scores using Tokenized words: {sentiment_scores}\")\n",
    "print()\n",
    "\n",
    "# 2. Test sentiment score on Tokenized words\n",
    "\n",
    "sentiment_scores = sia.polarity_scores(' '.join(filtered_words))\n",
    "print(f\"Sentiment scores using Stop Words for: '{text}': {sentiment_scores}\")\n",
    "print()\n",
    "\n",
    "# 3. Test sentiment analysis on lemmatized words \n",
    "print(\"The sentiment analysis on words on lemmatized text is:\") \n",
    "lemmatized_text = lemmatize_text(text)\n",
    "sentiment_scores = sia.polarity_scores(lemmatized_text)\n",
    "\n",
    "print(f\"Sentiment Scores using: '{text}': {sentiment_scores}\")\n",
    "print()\n",
    "\n",
    "# 4. Test sentiment analysis on cleaned data\n",
    "print(\"The sentiment analysis for Trudeau's statements on housing during the November 6th governemnt Housing debate is:\") \n",
    "sentiment_scores = sia.polarity_scores(text)\n",
    "\n",
    "print(f\"Sentiment Scores using lemmatization: '{text}': {sentiment_scores}\")\n",
    "\n",
    "\n",
    "\n",
    "\n",
    "\n",
    "\n"
   ]
  },
  {
   "cell_type": "code",
   "execution_count": null,
   "id": "33fd7553-2aeb-45b7-98d0-add93a9e2a5f",
   "metadata": {},
   "outputs": [],
   "source": []
  }
 ],
 "metadata": {
  "kernelspec": {
   "display_name": "Python 3 (ipykernel)",
   "language": "python",
   "name": "python3"
  },
  "language_info": {
   "codemirror_mode": {
    "name": "ipython",
    "version": 3
   },
   "file_extension": ".py",
   "mimetype": "text/x-python",
   "name": "python",
   "nbconvert_exporter": "python",
   "pygments_lexer": "ipython3",
   "version": "3.12.4"
  }
 },
 "nbformat": 4,
 "nbformat_minor": 5
}
