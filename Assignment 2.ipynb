{
 "cells": [
  {
   "cell_type": "code",
   "execution_count": null,
   "id": "ea1e1e0f-149f-462e-96a5-0edce8fb2f98",
   "metadata": {},
   "outputs": [],
   "source": [
    "# Using data serived from the github repository file \"trdHousingtext.txt\"\n",
    "\n",
    "# 1. set up\n",
    "import nltk\n",
    "\n",
    "from vaderSentiment.vaderSentiment import SentimentIntensityAnalyzer\n",
    "sia = SentimentIntensityAnalyzer() \n",
    "\n",
    "import os\n",
    "os.getcwd()\n",
    "print(os.getcwd())\n",
    "from nltk.corpus import PlaintextCorpusReader\n",
    "corpus_root = \"C:/Users/emmad/SDA250_labs/Notebook/Assignment2/trdhousingsent/trdhousingtext.txt\"\n",
    "corpus_root\n"
   ]
  },
  {
   "cell_type": "code",
   "execution_count": 196,
   "id": "d88ddff2-d476-4ce3-9c81-b1b83a55b691",
   "metadata": {},
   "outputs": [
    {
     "name": "stdout",
     "output_type": "stream",
     "text": [
      "Mr. Speaker, the MP for Fundy Royal wrote that this funding “will provide much needed housing in this area”, so much so that, when the Leader of the Opposition announced he would cancel it, the mayor of Butternut Valley in that riding, Alan Brown, responded very strongly that this money would help build homes and asked why the Conservative leader was blocking it.\n",
      "\n",
      "Mr. Speaker, I thank the member for Marc-Aurèle-Fortin. The Conservative leader's housing plan involves scrapping housing projects and investments across the country. In Quebec, his solution is to tear up the agreement that we signed with the province that will provide $900 million for affordable housing projects.\n",
      "\n",
      "Mr. Speaker, 18 Conservative caucus members stood up and asked for housing investments in their municipalities across the country from the housing accelerator fund that the Leader of the Opposition is promising to cut. I am going to channel my old job as a schoolteacher. The Leader of the Opposition actually spent a lot of time and effort rooting out which 18 members had asked for this money for their municipalities for housing.\n",
      "\n",
      "Mr. Speaker, Quebeckers see very clearly what the Conservative Party is offering, and that is cuts and austerity. The Conservative leader is saying he would cut $900 million in joint investments with Quebec that are intended to create roughly 8,000 affordable housing units. That is what he wants for Quebeckers, to make cuts.\n",
      "\n",
      "Mr. Speaker, the MP for St. Albert—Edmonton said, “The requested federal funding is critical to making this needed development a reality—a development that will help address the significant shortage of affordable housing options in the community”. At the same time, the mayor of Butternut Valley in New Brunswick pointed out that this is a program they need.\n",
      "\n",
      "Mr. Speaker, the problem with the Leader of the Opposition's so-called plan is that it actually cuts billions of dollars of investments to municipalities across the country that are counting on them to build hundreds and even thousands of units of housing Canadians so desperately need.\n",
      "\n",
      "Mr. Speaker, the only so-called plan the Leader of the Opposition put forward is a plan for cuts and austerity, a plan to cut billions of dollars of investments that are needed by municipalities to unlock the building of thousands of homes. Why does he not want to see thousands of homes built across the country?\n",
      "\n",
      "\n",
      "['Mr.', 'Speaker', ',', 'the', 'MP', 'for', 'Fundy', 'Royal', 'wrote', 'that', 'this', 'funding', '“', 'will', 'provide', 'much', 'needed', 'housing', 'in', 'this', 'area', '”', ',', 'so', 'much', 'so', 'that', ',', 'when', 'the', 'Leader', 'of', 'the', 'Opposition', 'announced', 'he', 'would', 'cancel', 'it', ',', 'the', 'mayor', 'of', 'Butternut', 'Valley', 'in', 'that', 'riding', ',', 'Alan', 'Brown', ',', 'responded', 'very', 'strongly', 'that', 'this', 'money', 'would', 'help', 'build', 'homes', 'and', 'asked', 'why', 'the', 'Conservative', 'leader', 'was', 'blocking', 'it', '.', 'Mr.', 'Speaker', ',', 'I', 'thank', 'the', 'member', 'for', 'Marc-Aurèle-Fortin', '.', 'The', 'Conservative', 'leader', \"'s\", 'housing', 'plan', 'involves', 'scrapping', 'housing', 'projects', 'and', 'investments', 'across', 'the', 'country', '.', 'In', 'Quebec', ',', 'his', 'solution', 'is', 'to', 'tear', 'up', 'the', 'agreement', 'that', 'we', 'signed', 'with', 'the', 'province', 'that', 'will', 'provide', '$', '900', 'million', 'for', 'affordable', 'housing', 'projects', '.', 'Mr.', 'Speaker', ',', '18', 'Conservative', 'caucus', 'members', 'stood', 'up', 'and', 'asked', 'for', 'housing', 'investments', 'in', 'their', 'municipalities', 'across', 'the', 'country', 'from', 'the', 'housing', 'accelerator', 'fund', 'that', 'the', 'Leader', 'of', 'the', 'Opposition', 'is', 'promising', 'to', 'cut', '.', 'I', 'am', 'going', 'to', 'channel', 'my', 'old', 'job', 'as', 'a', 'schoolteacher', '.', 'The', 'Leader', 'of', 'the', 'Opposition', 'actually', 'spent', 'a', 'lot', 'of', 'time', 'and', 'effort', 'rooting', 'out', 'which', '18', 'members', 'had', 'asked', 'for', 'this', 'money', 'for', 'their', 'municipalities', 'for', 'housing', '.', 'Mr.', 'Speaker', ',', 'Quebeckers', 'see', 'very', 'clearly', 'what', 'the', 'Conservative', 'Party', 'is', 'offering', ',', 'and', 'that', 'is', 'cuts', 'and', 'austerity', '.', 'The', 'Conservative', 'leader', 'is', 'saying', 'he', 'would', 'cut', '$', '900', 'million', 'in', 'joint', 'investments', 'with', 'Quebec', 'that', 'are', 'intended', 'to', 'create', 'roughly', '8,000', 'affordable', 'housing', 'units', '.', 'That', 'is', 'what', 'he', 'wants', 'for', 'Quebeckers', ',', 'to', 'make', 'cuts', '.', 'Mr.', 'Speaker', ',', 'the', 'MP', 'for', 'St.', 'Albert—Edmonton', 'said', ',', '“', 'The', 'requested', 'federal', 'funding', 'is', 'critical', 'to', 'making', 'this', 'needed', 'development', 'a', 'reality—a', 'development', 'that', 'will', 'help', 'address', 'the', 'significant', 'shortage', 'of', 'affordable', 'housing', 'options', 'in', 'the', 'community', '”', '.', 'At', 'the', 'same', 'time', ',', 'the', 'mayor', 'of', 'Butternut', 'Valley', 'in', 'New', 'Brunswick', 'pointed', 'out', 'that', 'this', 'is', 'a', 'program', 'they', 'need', '.', 'Mr.', 'Speaker', ',', 'the', 'problem', 'with', 'the', 'Leader', 'of', 'the', 'Opposition', \"'s\", 'so-called', 'plan', 'is', 'that', 'it', 'actually', 'cuts', 'billions', 'of', 'dollars', 'of', 'investments', 'to', 'municipalities', 'across', 'the', 'country', 'that', 'are', 'counting', 'on', 'them', 'to', 'build', 'hundreds', 'and', 'even', 'thousands', 'of', 'units', 'of', 'housing', 'Canadians', 'so', 'desperately', 'need', '.', 'Mr.', 'Speaker', ',', 'the', 'only', 'so-called', 'plan', 'the', 'Leader', 'of', 'the', 'Opposition', 'put', 'forward', 'is', 'a', 'plan', 'for', 'cuts', 'and', 'austerity', ',', 'a', 'plan', 'to', 'cut', 'billions', 'of', 'dollars', 'of', 'investments', 'that', 'are', 'needed', 'by', 'municipalities', 'to', 'unlock', 'the', 'building', 'of', 'thousands', 'of', 'homes', '.', 'Why', 'does', 'he', 'not', 'want', 'to', 'see', 'thousands', 'of', 'homes', 'built', 'across', 'the', 'country', '?']\n",
      "\n",
      "Sentiment Scores: {'neg': 0.0, 'neu': 1.0, 'pos': 0.0, 'compound': 0.0}\n"
     ]
    }
   ],
   "source": [
    "# 2. dataset cleanup \n",
    "\n",
    "# a) Tokenize words \n",
    "from nltk.tokenize import word_tokenize, sent_tokenize\n",
    "with open(corpus_root, \"r\", encoding = \"utf8\") as f:\n",
    "    Housingsent = f.read()  \n",
    "HousingTokens = nltk.word_tokenize(Housingsent) \n",
    "print(Housingsent)\n",
    "print (HousingTokens)\n",
    "print()\n",
    "\n",
    "# Test sentiment score on Tokenized words\n",
    "sentiment_scores = analyzer.polarity_scores(HousingTokens)\n",
    "print(f\"Sentiment Scores: {sentiment_scores}\")"
   ]
  },
  {
   "cell_type": "code",
   "execution_count": 198,
   "id": "e943b2a3-c217-4d1d-bd24-369896f098ac",
   "metadata": {},
   "outputs": [
    {
     "name": "stdout",
     "output_type": "stream",
     "text": [
      "\n",
      "Sentiment scores for 'Mr. Speaker, the MP for Fundy Royal wrote that this funding “will provide much needed housing in this area”, so much so that, when the Leader of the Opposition announced he would cancel it, the mayor of Butternut Valley in that riding, Alan Brown, responded very strongly that this money would help build homes and asked why the Conservative leader was blocking it.\n",
      "\n",
      "Mr. Speaker, I thank the member for Marc-Aurèle-Fortin. The Conservative leader's housing plan involves scrapping housing projects and investments across the country. In Quebec, his solution is to tear up the agreement that we signed with the province that will provide $900 million for affordable housing projects.\n",
      "\n",
      "Mr. Speaker, 18 Conservative caucus members stood up and asked for housing investments in their municipalities across the country from the housing accelerator fund that the Leader of the Opposition is promising to cut. I am going to channel my old job as a schoolteacher. The Leader of the Opposition actually spent a lot of time and effort rooting out which 18 members had asked for this money for their municipalities for housing.\n",
      "\n",
      "Mr. Speaker, Quebeckers see very clearly what the Conservative Party is offering, and that is cuts and austerity. The Conservative leader is saying he would cut $900 million in joint investments with Quebec that are intended to create roughly 8,000 affordable housing units. That is what he wants for Quebeckers, to make cuts.\n",
      "\n",
      "Mr. Speaker, the MP for St. Albert—Edmonton said, “The requested federal funding is critical to making this needed development a reality—a development that will help address the significant shortage of affordable housing options in the community”. At the same time, the mayor of Butternut Valley in New Brunswick pointed out that this is a program they need.\n",
      "\n",
      "Mr. Speaker, the problem with the Leader of the Opposition's so-called plan is that it actually cuts billions of dollars of investments to municipalities across the country that are counting on them to build hundreds and even thousands of units of housing Canadians so desperately need.\n",
      "\n",
      "Mr. Speaker, the only so-called plan the Leader of the Opposition put forward is a plan for cuts and austerity, a plan to cut billions of dollars of investments that are needed by municipalities to unlock the building of thousands of homes. Why does he not want to see thousands of homes built across the country?\n",
      "\n",
      "': {'neg': 0.114, 'neu': 0.774, 'pos': 0.112, 'compound': 0.128}\n"
     ]
    }
   ],
   "source": [
    "# b) Using stop words \n",
    "stop_words = set(stopwords.words('english'))\n",
    "texts = [Housingsent] \n",
    "\n",
    "analyzer = SentimentIntensityAnalyzer()\n",
    "\n",
    "for text in texts:\n",
    "    filtered_words = [word for word in text.split() if word.lower() not in stop_words]\n",
    "\n",
    "print()\n",
    "\n",
    "# Test sentiment score on Tokenized words\n",
    "sentiment_scores = analyzer.polarity_scores(' '.join(filtered_words))\n",
    "print(f\"Sentiment scores for '{text}': {sentiment_scores}\")\n"
   ]
  },
  {
   "cell_type": "code",
   "execution_count": 192,
   "id": "a9c11548-daa3-43ef-ac24-a3ca0c08c89d",
   "metadata": {},
   "outputs": [
    {
     "name": "stdout",
     "output_type": "stream",
     "text": [
      "Mr. Speaker , the MP for Fundy Royal wrote that this funding “ will provide much needed housing in this area ” , so much so that , when the Leader of the Opposition announced he would cancel it , the mayor of Butternut Valley in that riding , Alan Brown , responded very strongly that this money would help build home and asked why the Conservative leader wa blocking it . Mr. Speaker , I thank the member for Marc-Aurèle-Fortin . The Conservative leader 's housing plan involves scrapping housing project and investment across the country . In Quebec , his solution is to tear up the agreement that we signed with the province that will provide $ 900 million for affordable housing project . Mr. Speaker , 18 Conservative caucus member stood up and asked for housing investment in their municipality across the country from the housing accelerator fund that the Leader of the Opposition is promising to cut . I am going to channel my old job a a schoolteacher . The Leader of the Opposition actually spent a lot of time and effort rooting out which 18 member had asked for this money for their municipality for housing . Mr. Speaker , Quebeckers see very clearly what the Conservative Party is offering , and that is cut and austerity . The Conservative leader is saying he would cut $ 900 million in joint investment with Quebec that are intended to create roughly 8,000 affordable housing unit . That is what he want for Quebeckers , to make cut . Mr. Speaker , the MP for St. Albert—Edmonton said , “ The requested federal funding is critical to making this needed development a reality—a development that will help address the significant shortage of affordable housing option in the community ” . At the same time , the mayor of Butternut Valley in New Brunswick pointed out that this is a program they need . Mr. Speaker , the problem with the Leader of the Opposition 's so-called plan is that it actually cut billion of dollar of investment to municipality across the country that are counting on them to build hundred and even thousand of unit of housing Canadians so desperately need . Mr. Speaker , the only so-called plan the Leader of the Opposition put forward is a plan for cut and austerity , a plan to cut billion of dollar of investment that are needed by municipality to unlock the building of thousand of home . Why doe he not want to see thousand of home built across the country ?\n"
     ]
    },
    {
     "name": "stderr",
     "output_type": "stream",
     "text": [
      "[nltk_data] Downloading package wordnet to\n",
      "[nltk_data]     C:\\Users\\emmad\\AppData\\Roaming\\nltk_data...\n",
      "[nltk_data]   Package wordnet is already up-to-date!\n",
      "[nltk_data] Downloading package punkt to\n",
      "[nltk_data]     C:\\Users\\emmad\\AppData\\Roaming\\nltk_data...\n",
      "[nltk_data]   Package punkt is already up-to-date!\n"
     ]
    }
   ],
   "source": [
    "# c) Lemmatization \n",
    "#import necessary packages \n",
    "nltk.download('wordnet')\n",
    "nltk.download('punkt')\n",
    "\n",
    "from nltk.stem import WordNetLemmatizer\n",
    "\n",
    "lemmatizer = WordNetLemmatizer()\n",
    "\n",
    "def lemmatize_text(text):\n",
    "    words = word_tokenize(text)\n",
    "    lemmatized_words = [lemmatizer.lemmatize(word) for word in words]\n",
    "    return ' '.join(lemmatized_words)\n",
    "\n",
    "print(lemmatized_text)\n"
   ]
  },
  {
   "cell_type": "markdown",
   "id": "afd6ebba-0708-4009-8889-a71e23ec902d",
   "metadata": {},
   "source": [
    "# 3. perform sentiment analysis on cleaned data\n",
    "\n",
    "lemmatized_text = lemmatize_text(text)\n",
    "sentiment_scores = analyzer.polarity_scores(lemmatized_text)\n",
    "\n",
    "print(f\"Sentiment Scores for '{text}': {sentiment_scores}\")"
   ]
  },
  {
   "cell_type": "code",
   "execution_count": null,
   "id": "1ece0e0f-7b95-4b12-8dc6-f26cd8f89dc4",
   "metadata": {},
   "outputs": [],
   "source": []
  }
 ],
 "metadata": {
  "kernelspec": {
   "display_name": "Python 3 (ipykernel)",
   "language": "python",
   "name": "python3"
  },
  "language_info": {
   "codemirror_mode": {
    "name": "ipython",
    "version": 3
   },
   "file_extension": ".py",
   "mimetype": "text/x-python",
   "name": "python",
   "nbconvert_exporter": "python",
   "pygments_lexer": "ipython3",
   "version": "3.12.4"
  }
 },
 "nbformat": 4,
 "nbformat_minor": 5
}
